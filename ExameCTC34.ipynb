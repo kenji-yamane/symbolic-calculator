{
  "nbformat": 4,
  "nbformat_minor": 0,
  "metadata": {
    "colab": {
      "name": "ExameCTC34.ipynb",
      "provenance": [],
      "collapsed_sections": []
    },
    "kernelspec": {
      "name": "python3",
      "display_name": "Python 3"
    },
    "language_info": {
      "name": "python"
    }
  },
  "cells": [
    {
      "cell_type": "code",
      "metadata": {
        "id": "TeciTaxF0-RU"
      },
      "source": [
        "import re"
      ],
      "execution_count": 3,
      "outputs": []
    },
    {
      "cell_type": "code",
      "metadata": {
        "id": "aIIB6F020_Os"
      },
      "source": [
        "# Descrição informal da gramática\n",
        "# O símbolo inicial é <program>\n",
        "# Não inclui whitespaces\n",
        "\n",
        "grammar01 = \"\"\"\n",
        "\n",
        "<program> = <variable> <constants>? <functions>? <expression> \n",
        "\n",
        "<name> = <letter>(<alphanumeric_>)+\n",
        "<variable> = variable <name>\n",
        "<constants> = constants <name> (, <name>)*\n",
        "<functions> = functions <name> (, <name>)*\n",
        "\n",
        "<decimal> = <alphanumeric>+ [\\.<alphanumeric>+]\n",
        "<expression> = <term> [(+|-) <expression>] \n",
        "<term> = <power> [* <term>]\n",
        "<power> = <factor> [^ <power>]\n",
        "<factor> =  <decimal> | <name> | (<expression>)\n",
        "\n",
        "\"\"\""
      ],
      "execution_count": 4,
      "outputs": []
    },
    {
      "cell_type": "code",
      "metadata": {
        "id": "89bMQLg54d0H"
      },
      "source": [
        "example01 = \"\"\"\n",
        "\n",
        "variable x\n",
        "constants A, B, C\n",
        "functions f\n",
        "expression: (A + x + f)'\n",
        "\n",
        "\"\"\"\n",
        "\n",
        "example02 = \"\"\"\n",
        "\n",
        "variable t\n",
        "constants k\n",
        "functions x, y\n",
        "expression: k*(x + y)*(x - y)\n",
        "\n",
        "\"\"\"\n",
        "\n",
        "example03 = \"\"\"\n",
        "\n",
        "variable t\n",
        "constants k\n",
        "functions x, y\n",
        "expression: (x + t)*x + 2*t\n",
        "\n",
        "\"\"\"\n",
        "\n",
        "example04 = \"\"\"\n",
        "\n",
        "variable t2\n",
        "constants A\n",
        "functions x, y, z\n",
        "expression: (x+Ay)*(x^2-A-z+t2)'\n",
        "\n",
        "\"\"\""
      ],
      "execution_count": 5,
      "outputs": []
    },
    {
      "cell_type": "code",
      "metadata": {
        "id": "MWWujxZX4xQP"
      },
      "source": [
        "example = example04"
      ],
      "execution_count": 6,
      "outputs": []
    },
    {
      "cell_type": "code",
      "metadata": {
        "id": "irnxGCi83aaW"
      },
      "source": [
        "# Obs: name = [a-zA-Z][a-zA-Z0-9]*\n",
        "header_regex = r'''\\s*variable\\s([a-zA-Z][a-zA-Z0-9]*)\n",
        "(?:\\s*constants\\s+([a-zA-Z][a-zA-Z0-9]*(?:\\s*,\\s*[a-zA-Z][a-zA-Z0-9]*)*))?\n",
        "(?:\\s*functions\\s+([a-zA-Z][a-zA-Z0-9]*(?:\\s*,\\s*[a-zA-Z][a-zA-Z0-9]*)*))?(.+)'''\n",
        "\n",
        "m = re.match(header_regex,example,re.S)\n",
        "variable, constants, functions, expression = m.groups()"
      ],
      "execution_count": 7,
      "outputs": []
    },
    {
      "cell_type": "code",
      "metadata": {
        "colab": {
          "base_uri": "https://localhost:8080/"
        },
        "id": "7y_oCN_s66Ca",
        "outputId": "1c44a60a-1a4b-4fe3-f3cd-2ca4defd61f3"
      },
      "source": [
        "print(variable)\n",
        "print(constants)\n",
        "print(functions)\n",
        "print(variable)"
      ],
      "execution_count": null,
      "outputs": [
        {
          "output_type": "stream",
          "name": "stdout",
          "text": [
            "t2\n",
            "A\n",
            "x, y, z\n",
            "t2\n"
          ]
        }
      ]
    },
    {
      "cell_type": "code",
      "metadata": {
        "id": "_crXuuWJuWmi"
      },
      "source": [
        "class Node:\n",
        "    \"\"\"\n",
        "    Representa uma operação com número arbitrário de filhos ou um fator.\n",
        "    \"\"\"\n",
        "    def __init__(self, name, children=None):\n",
        "        self.children=children\n",
        "        self.name=name\n",
        "\n",
        "    def print(self):\n",
        "        a = self.name\n",
        "        if self.children is not None:\n",
        "          a += '('\n",
        "          a += self.children[0].print()\n",
        "          for c in range(1, len(self.children)):\n",
        "            a += ', ' + self.children[c].print()\n",
        "          a += ')'\n",
        "        return a\n",
        "\n",
        "class Parser:\n",
        "    \"\"\"\n",
        "    Realiza o parsing.\n",
        "    \"\"\"\n",
        "    def __init__(self, s):\n",
        "        # lex é um generator que retorna o próximo token encontrado, podendo ser ele:\n",
        "        # [0-9]+(\\.[0-9]+)?        Floats, ex: \"4\", \"5.3\", \"22.75\"\n",
        "        # [a-zA-Z]([_a-zA-Z0-9])*  Nomes de funções ou variáveis compostos por \n",
        "        #         um caractere seguido por 0 ou mais caracteres ou underscores\n",
        "        # \\(|\\)|\\+|\\-|\\*           Qualquer outro delimitador válido na linguagem\n",
        "        self.lex = re.finditer(r'\\s*([0-9]+(\\.[0-9]+)?|[a-zA-Z]([_a-zA-Z0-9])*|\\(|\\)|\\+|\\-|\\*|\\^)', s)\n",
        "        self.current = self.next()\n",
        "\n",
        "    def next(self):\n",
        "      try:\n",
        "        match = next(self.lex)\n",
        "      except StopIteration:\n",
        "        return '\\0'\n",
        "      return match.group().strip()\n",
        "\n",
        "    def parse(self):\n",
        "        return self.Expression()\n",
        "\n",
        "    def Expression(self):\n",
        "        l = self.Term()\n",
        "        if self.current == '+' or self.current == '-':\n",
        "          op = self.current\n",
        "          self.current = self.next()\n",
        "          r = self.Expression()\n",
        "          if r != None:\n",
        "              return Node(op, [l, r])\n",
        "          return None\n",
        "        return l\n",
        "\n",
        "    def Term(self):\n",
        "        l = self.Power()\n",
        "        if self.current == '*':\n",
        "            self.current = self.next()\n",
        "            r = self.Term()\n",
        "            if r == None:\n",
        "                return None\n",
        "            return Node(\"*\", [l, r])\n",
        "        return l\n",
        "    \n",
        "    def Power(self):\n",
        "      l = self.Factor()\n",
        "      if self.current == '^':\n",
        "          self.current = self.next()\n",
        "          r = self.Power()\n",
        "          if r == None:\n",
        "              return None\n",
        "          return Node(\"^\", [l, r])\n",
        "      return l\n",
        "\n",
        "\n",
        "    def Factor(self):\n",
        "        if self.current == '(':\n",
        "            self.current = self.next()\n",
        "            r = self.Expression()\n",
        "            if self.current == ')':\n",
        "                self.current = self.next()\n",
        "                return r\n",
        "            return None\n",
        "        l = self.current\n",
        "        self.current = self.next()\n",
        "        \n",
        "        return Node(l)"
      ],
      "execution_count": 156,
      "outputs": []
    },
    {
      "cell_type": "code",
      "metadata": {
        "id": "r5h-DTGJzPRy"
      },
      "source": [
        "# Operações básicas\n",
        "tree = Parser('1*23').parse()\n",
        "assert tree.print() == \"*(1, 23)\"\n",
        "\n",
        "tree = Parser('25+   4.74').parse()\n",
        "assert tree.print() == \"+(25, 4.74)\"\n",
        "\n",
        "tree = Parser('  32 - 15 ').parse()\n",
        "assert tree.print() == \"-(32, 15)\""
      ],
      "execution_count": 157,
      "outputs": []
    },
    {
      "cell_type": "code",
      "metadata": {
        "id": "AgF91jjJziLP"
      },
      "source": [
        "# Ordem das operações\n",
        "tree = Parser('1*23+5').parse()\n",
        "assert tree.print() == \"+(*(1, 23), 5)\"\n",
        "\n",
        "tree = Parser('1 * (23+5)').parse()\n",
        "assert tree.print() == \"*(1, +(23, 5))\""
      ],
      "execution_count": 158,
      "outputs": []
    },
    {
      "cell_type": "code",
      "metadata": {
        "id": "VSpBRj8H9pFb"
      },
      "source": [
        "# Exemplos complexos\n",
        "tree = Parser('k*(x + y)*(x - y)').parse()\n",
        "assert tree.print() == \"*(k, *(+(x, y), -(x, y)))\"\n",
        "\n",
        "tree = Parser('(x + t)*x + 2*t').parse()\n",
        "assert tree.print() == \"+(*(+(x, t), x), *(2, t))\"\n",
        "\n",
        "tree = Parser('(x+Ay)*(x^2-A-z+t2)').parse()\n",
        "assert tree.print() == \"*(+(x, Ay), -(^(x, 2), -(A, +(z, t2))))\""
      ],
      "execution_count": 161,
      "outputs": []
    }
  ]
}