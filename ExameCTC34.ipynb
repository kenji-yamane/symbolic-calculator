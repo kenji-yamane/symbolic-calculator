{
  "nbformat": 4,
  "nbformat_minor": 0,
  "metadata": {
    "colab": {
      "name": "ExameCTC34.ipynb",
      "provenance": []
    },
    "kernelspec": {
      "name": "python3",
      "display_name": "Python 3"
    },
    "language_info": {
      "name": "python"
    }
  },
  "cells": [
    {
      "cell_type": "code",
      "metadata": {
        "id": "TeciTaxF0-RU"
      },
      "source": [
        "import re"
      ],
      "execution_count": 1,
      "outputs": []
    },
    {
      "cell_type": "code",
      "metadata": {
        "id": "aIIB6F020_Os"
      },
      "source": [
        "# Descrição informal da gramática\n",
        "# O símbolo inicial é <program>\n",
        "# Não inclui whitespaces\n",
        "\n",
        "grammar01 = \"\"\"\n",
        "\n",
        "<program> = <variable> <constants>? <functions>? <expression> \n",
        "\n",
        "<name> = <letter>(<alphanumeric_>)+\n",
        "<variable> = variable <name>\n",
        "<constants> = constants <name> (, <name>)*\n",
        "<functions> = functions <name> (, <name>)*\n",
        "\n",
        "<decimal> = <alphanumeric>+(\\.<alphanumeric>+)\n",
        "<expression> = <decimal> | <name> | <expression> (+|-|*) <expression> | (<expression>) | <expression>'\n",
        "\n",
        "\"\"\""
      ],
      "execution_count": 2,
      "outputs": []
    },
    {
      "cell_type": "code",
      "metadata": {
        "id": "89bMQLg54d0H"
      },
      "source": [
        "example01 = \"\"\"\n",
        "\n",
        "variable x\n",
        "constants A, B, C\n",
        "functions f\n",
        "expression: (A + x + f)'\n",
        "\n",
        "\"\"\"\n",
        "\n",
        "example02 = \"\"\"\n",
        "\n",
        "variable t\n",
        "constants k\n",
        "functions x, y\n",
        "expression: k*(x + y)*(x - y)\n",
        "\n",
        "\"\"\"\n",
        "\n",
        "example03 = \"\"\"\n",
        "\n",
        "variable t\n",
        "constants k\n",
        "functions x, y\n",
        "expression: (x + t)*x + 2*t\n",
        "\n",
        "\"\"\"\n",
        "\n",
        "example04 = \"\"\"\n",
        "\n",
        "variable t2\n",
        "constants A\n",
        "functions x, y, z\n",
        "expression: (x+Ay)*(x^2-A-z+t2)'\n",
        "\n",
        "\"\"\""
      ],
      "execution_count": 51,
      "outputs": []
    },
    {
      "cell_type": "code",
      "metadata": {
        "id": "MWWujxZX4xQP"
      },
      "source": [
        "example = example04"
      ],
      "execution_count": 52,
      "outputs": []
    },
    {
      "cell_type": "code",
      "metadata": {
        "id": "irnxGCi83aaW"
      },
      "source": [
        "# Obs: name = [a-zA-Z][a-zA-Z0-9]*\n",
        "header_regex = r'''\\s*variable\\s([a-zA-Z][a-zA-Z0-9]*)\n",
        "(?:\\s*constants\\s+([a-zA-Z][a-zA-Z0-9]*(?:\\s*,\\s*[a-zA-Z][a-zA-Z0-9]*)*))?\n",
        "(?:\\s*functions\\s+([a-zA-Z][a-zA-Z0-9]*(?:\\s*,\\s*[a-zA-Z][a-zA-Z0-9]*)*))?(.+)'''\n",
        "\n",
        "m = re.match(header_regex,example,re.S)\n",
        "variable, constants, functions, expression = m.groups()"
      ],
      "execution_count": 53,
      "outputs": []
    },
    {
      "cell_type": "code",
      "metadata": {
        "colab": {
          "base_uri": "https://localhost:8080/"
        },
        "id": "7y_oCN_s66Ca",
        "outputId": "1c44a60a-1a4b-4fe3-f3cd-2ca4defd61f3"
      },
      "source": [
        "print(variable)\n",
        "print(constants)\n",
        "print(functions)\n",
        "print(variable)"
      ],
      "execution_count": 54,
      "outputs": [
        {
          "output_type": "stream",
          "name": "stdout",
          "text": [
            "t2\n",
            "A\n",
            "x, y, z\n",
            "t2\n"
          ]
        }
      ]
    }
  ]
}