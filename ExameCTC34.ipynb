{
  "nbformat": 4,
  "nbformat_minor": 0,
  "metadata": {
    "colab": {
      "name": "ExameCTC34.ipynb",
      "provenance": [],
      "collapsed_sections": []
    },
    "kernelspec": {
      "name": "python3",
      "display_name": "Python 3"
    },
    "language_info": {
      "name": "python"
    }
  },
  "cells": [
    {
      "cell_type": "code",
      "metadata": {
        "id": "TeciTaxF0-RU"
      },
      "source": [
        "import re\n",
        "from sympy import symbols"
      ],
      "execution_count": 171,
      "outputs": []
    },
    {
      "cell_type": "code",
      "metadata": {
        "id": "aIIB6F020_Os"
      },
      "source": [
        "# Descrição informal da gramática\n",
        "# O símbolo inicial é <program>\n",
        "# Não inclui whitespaces\n",
        "\n",
        "grammar01 = \"\"\"\n",
        "\n",
        "<program> = <variable> <constants>? <functions>? <expression> \n",
        "\n",
        "<name> = <letter>(<alphanumeric_>)+\n",
        "<variable> = variable <name>\n",
        "<constants> = constants <name> (, <name>)*\n",
        "<functions> = functions <name> (, <name>)*\n",
        "\n",
        "<decimal> = <alphanumeric>+ [\\.<alphanumeric>+]\n",
        "<expression> = <term> [(+|-) <expression>] \n",
        "<term> = <power> [* <term>]\n",
        "<power> = <factor> [^ <power>]\n",
        "<factor> =  <decimal> | <name> | (<expression>)\n",
        "\n",
        "\"\"\""
      ],
      "execution_count": 172,
      "outputs": []
    },
    {
      "cell_type": "code",
      "metadata": {
        "id": "89bMQLg54d0H"
      },
      "source": [
        "example01 = \"\"\"\n",
        "\n",
        "variable x\n",
        "constants A, B, C\n",
        "functions f\n",
        "(A + x + f)\n",
        "\n",
        "\"\"\"\n",
        "\n",
        "example02 = \"\"\"\n",
        "\n",
        "variable t\n",
        "constants k\n",
        "functions x, y\n",
        "k*(x + y)*(x - y)\n",
        "\n",
        "\"\"\"\n",
        "\n",
        "example03 = \"\"\"\n",
        "\n",
        "variable t\n",
        "constants k\n",
        "functions x, y\n",
        "(x + t)*x + 2*t\n",
        "\n",
        "\"\"\"\n",
        "\n",
        "example04 = \"\"\"\n",
        "\n",
        "variable t2\n",
        "constants A\n",
        "functions x, y, z\n",
        "(x+Ay)*(x^2-A-z+t2)'\n",
        "\n",
        "\"\"\""
      ],
      "execution_count": 173,
      "outputs": []
    },
    {
      "cell_type": "code",
      "metadata": {
        "id": "irnxGCi83aaW"
      },
      "source": [
        "# Obs: name = [a-zA-Z][a-zA-Z0-9]*\n",
        "header_regex = r'''\\s*variable\\s([a-zA-Z][a-zA-Z0-9]*)\n",
        "(?:\\s*constants\\s+([a-zA-Z][a-zA-Z0-9]*(?:\\s*,\\s*[a-zA-Z][a-zA-Z0-9]*)*))?\n",
        "(?:\\s*functions\\s+([a-zA-Z][a-zA-Z0-9]*(?:\\s*,\\s*[a-zA-Z][a-zA-Z0-9]*)*))?(.+)'''\n",
        "\n",
        "def extract_variables(code):\n",
        "  m = re.match(header_regex, code,re.S)\n",
        "  variable, constants, functions, expression = m.groups()\n",
        "\n",
        "  raw_constants = constants.split(',')\n",
        "  raw_functions = functions.split(',')\n",
        "\n",
        "  variables = {}\n",
        "  variable_name = variable.strip()\n",
        "  variables[variable_name] = symbols(variable_name, constant=False)\n",
        "  for v in raw_functions:\n",
        "    function_name = v.strip()\n",
        "    variables[function_name] = symbols(function_name, constant=False)\n",
        "  for c in raw_constants:\n",
        "    constant_name = c.strip()\n",
        "    variables[constant_name] = symbols(constant_name, constant=True)\n",
        "\n",
        "  expression = expression.strip()\n",
        "  return expression, variables\n",
        "\n"
      ],
      "execution_count": 187,
      "outputs": []
    },
    {
      "cell_type": "code",
      "metadata": {
        "id": "881OzQXxtfhZ"
      },
      "source": [
        "expression, variables = extract_variables(example04)"
      ],
      "execution_count": 188,
      "outputs": []
    },
    {
      "cell_type": "code",
      "metadata": {
        "colab": {
          "base_uri": "https://localhost:8080/",
          "height": 35
        },
        "id": "iPw3QcnlpoYp",
        "outputId": "16ea341b-533c-470f-eea4-444b00a1c4ad"
      },
      "source": [
        "expression"
      ],
      "execution_count": 189,
      "outputs": [
        {
          "output_type": "execute_result",
          "data": {
            "application/vnd.google.colaboratory.intrinsic+json": {
              "type": "string"
            },
            "text/plain": [
              "\"(x+Ay)*(x^2-A-z+t2)'\""
            ]
          },
          "metadata": {},
          "execution_count": 189
        }
      ]
    },
    {
      "cell_type": "code",
      "metadata": {
        "colab": {
          "base_uri": "https://localhost:8080/"
        },
        "id": "Juwb5uWRjEzc",
        "outputId": "49300e4c-a83e-4512-8f3a-908c8e7424ca"
      },
      "source": [
        "variables"
      ],
      "execution_count": 190,
      "outputs": [
        {
          "output_type": "execute_result",
          "data": {
            "text/plain": [
              "{'A': A, 't2': t2, 'x': x, 'y': y, 'z': z}"
            ]
          },
          "metadata": {},
          "execution_count": 190
        }
      ]
    },
    {
      "cell_type": "code",
      "metadata": {
        "id": "_crXuuWJuWmi"
      },
      "source": [
        "class Node:\n",
        "    \"\"\"\n",
        "    Representa uma operação com número arbitrário de filhos ou um fator.\n",
        "    \"\"\"\n",
        "    def __init__(self, name, children=None):\n",
        "        self.children=children\n",
        "        self.name=name\n",
        "\n",
        "    def print(self):\n",
        "        a = self.name\n",
        "        if self.children is not None:\n",
        "          a += '('\n",
        "          a += self.children[0].print()\n",
        "          for c in range(1, len(self.children)):\n",
        "            a += ', ' + self.children[c].print()\n",
        "          a += ')'\n",
        "        return a\n",
        "\n",
        "    def evaluate(self, variables):\n",
        "      pass\n",
        "\n",
        "class AddNode (Node):\n",
        "  def __init__(self, name, children=None):\n",
        "    super().__init__(name, children)\n",
        "\n",
        "  def evaluate(self, variables):\n",
        "    if self.name == '+':\n",
        "      return self.children[0].evaluate(variables) + self.children[1].evaluate(variables)\n",
        "    return self.children[0].evaluate(variables) - self.children[1].evaluate(variables)\n",
        "\n",
        "class MultiNode (Node):\n",
        "  def __init__(self, children=None):\n",
        "    super().__init__('*', children)\n",
        "    \n",
        "  def evaluate(self, variables):\n",
        "    return self.children[0].evaluate(variables) * self.children[1].evaluate(variables)\n",
        "\n",
        "class PowerNode (Node):\n",
        "  def __init__(self, children=None):\n",
        "    super().__init__('^', children)\n",
        "    \n",
        "  def evaluate(self, variables):\n",
        "    return self.children[0].evaluate(variables) ** self.children[1].evaluate(variables)\n",
        "  \n",
        "class LiteralNode (Node):\n",
        "  def __init__(self, name, children=None):\n",
        "    super().__init__(name, children)\n",
        "    \n",
        "  def evaluate(self, variables):\n",
        "    try: \n",
        "        x = float(self.name)\n",
        "    except ValueError: \n",
        "        x = variables.get(self.name)\n",
        "        if x is None:\n",
        "          raise Exception('Variable %s does not exist' % self.name)\n",
        "    return x\n",
        "   \n",
        "\n",
        "class Parser:\n",
        "    \"\"\"\n",
        "    Realiza o parsing.\n",
        "    \"\"\"\n",
        "    def __init__(self, s):\n",
        "        # lex é um generator que retorna o próximo token encontrado, podendo ser ele:\n",
        "        # [0-9]+(\\.[0-9]+)?        Floats, ex: \"4\", \"5.3\", \"22.75\"\n",
        "        # [a-zA-Z]([_a-zA-Z0-9])*  Nomes de funções ou variáveis compostos por \n",
        "        #         um caractere seguido por 0 ou mais caracteres ou underscores\n",
        "        # \\(|\\)|\\+|\\-|\\*           Qualquer outro delimitador válido na linguagem\n",
        "        self.lex = re.finditer(r'\\s*([0-9]+(\\.[0-9]+)?|[a-zA-Z]([_a-zA-Z0-9])*|\\(|\\)|\\+|\\-|\\*|\\^)', s)\n",
        "        self.current = self.next()\n",
        "\n",
        "    def next(self):\n",
        "      try:\n",
        "        match = next(self.lex)\n",
        "      except StopIteration:\n",
        "        return '\\0'\n",
        "      return match.group().strip()\n",
        "\n",
        "    def parse(self):\n",
        "        return self.Expression()\n",
        "\n",
        "    def Expression(self):\n",
        "        l = self.Term()\n",
        "        if self.current == '+' or self.current == '-':\n",
        "          op = self.current\n",
        "          self.current = self.next()\n",
        "          r = self.Expression()\n",
        "          if r != None:\n",
        "              return AddNode(op, [l, r])\n",
        "          return None\n",
        "        return l\n",
        "\n",
        "    def Term(self):\n",
        "        l = self.Power()\n",
        "        if self.current == '*':\n",
        "            self.current = self.next()\n",
        "            r = self.Term()\n",
        "            if r == None:\n",
        "                return None\n",
        "            return MultiNode([l, r])\n",
        "        return l\n",
        "    \n",
        "    def Power(self):\n",
        "      l = self.Factor()\n",
        "      if self.current == '^':\n",
        "          self.current = self.next()\n",
        "          r = self.Power()\n",
        "          if r == None:\n",
        "              return None\n",
        "          return PowerNode([l, r])\n",
        "      return l\n",
        "\n",
        "\n",
        "    def Factor(self):\n",
        "        if self.current == '(':\n",
        "            self.current = self.next()\n",
        "            r = self.Expression()\n",
        "            if self.current == ')':\n",
        "                self.current = self.next()\n",
        "                return r\n",
        "            return None\n",
        "        l = self.current\n",
        "        self.current = self.next()\n",
        "        \n",
        "        return LiteralNode(l)"
      ],
      "execution_count": 199,
      "outputs": []
    },
    {
      "cell_type": "code",
      "metadata": {
        "id": "r5h-DTGJzPRy"
      },
      "source": [
        "# Operações básicas\n",
        "tree = Parser('1*23').parse()\n",
        "assert tree.print() == \"*(1, 23)\"\n",
        "assert '%.2f' % tree.evaluate({}) == '23.00'\n",
        "\n",
        "tree = Parser('25+   4.74').parse()\n",
        "assert tree.print() == \"+(25, 4.74)\"\n",
        "assert '%.2f' % tree.evaluate({}) == '29.74'\n",
        "\n",
        "tree = Parser('  32 - 15 ').parse()\n",
        "assert tree.print() == \"-(32, 15)\"\n",
        "assert '%.2f' % tree.evaluate({}) == '17.00'\n",
        "\n",
        "\n",
        "tree = Parser('  2^5 ').parse()\n",
        "assert tree.print() == \"^(2, 5)\"\n",
        "assert '%.2f' % tree.evaluate({}) == '32.00'"
      ],
      "execution_count": 200,
      "outputs": []
    },
    {
      "cell_type": "code",
      "metadata": {
        "id": "AgF91jjJziLP"
      },
      "source": [
        "# Ordem das operações\n",
        "tree = Parser('1*23+5').parse()\n",
        "assert tree.print() == \"+(*(1, 23), 5)\"\n",
        "assert '%.2f' % tree.evaluate({}) == '28.00'\n",
        "\n",
        "tree = Parser('1 * (23+5)').parse()\n",
        "assert tree.print() == \"*(1, +(23, 5))\"\n",
        "assert '%.2f' % tree.evaluate({}) == '28.00'"
      ],
      "execution_count": 197,
      "outputs": []
    },
    {
      "cell_type": "code",
      "metadata": {
        "id": "VSpBRj8H9pFb"
      },
      "source": [
        "# Exemplos complexos - somente parsing, sem avaliação\n",
        "tree = Parser('k*(x + y)*(x - y)').parse()\n",
        "assert tree.print() == \"*(k, *(+(x, y), -(x, y)))\"\n",
        "\n",
        "tree = Parser('(x + t)*x + 2*t').parse()\n",
        "assert tree.print() == \"+(*(+(x, t), x), *(2, t))\"\n",
        "\n",
        "tree = Parser('(x+Ay)*(x^2-A-z+t2)').parse()\n",
        "assert tree.print() == \"*(+(x, Ay), -(^(x, 2), -(A, +(z, t2))))\""
      ],
      "execution_count": 182,
      "outputs": []
    },
    {
      "cell_type": "code",
      "metadata": {
        "id": "YxjnS5QYmamv"
      },
      "source": [
        "# Método que encapsula extração de variáveis + parsing + avaliação de um código na \n",
        "# linguagem definida\n",
        "def parse_code(code):\n",
        "  expression, variables = extract_variables(code)\n",
        "  result = Parser(expression).parse().evaluate(variables)\n",
        "  return result.expand().simplify()"
      ],
      "execution_count": 208,
      "outputs": []
    },
    {
      "cell_type": "code",
      "metadata": {
        "colab": {
          "base_uri": "https://localhost:8080/"
        },
        "id": "6ze4lI2BqNWP",
        "outputId": "1ceeb2a8-d453-4038-de77-8450217b053f"
      },
      "source": [
        "print(parse_code(example01))"
      ],
      "execution_count": 209,
      "outputs": [
        {
          "output_type": "stream",
          "name": "stdout",
          "text": [
            "A + f + x\n"
          ]
        }
      ]
    },
    {
      "cell_type": "code",
      "metadata": {
        "colab": {
          "base_uri": "https://localhost:8080/"
        },
        "id": "X8XxfwmYruma",
        "outputId": "9fabc3bf-0040-4deb-b5d4-474a536b443b"
      },
      "source": [
        "print(parse_code(example02))"
      ],
      "execution_count": 210,
      "outputs": [
        {
          "output_type": "stream",
          "name": "stdout",
          "text": [
            "k*(x**2 - y**2)\n"
          ]
        }
      ]
    },
    {
      "cell_type": "code",
      "metadata": {
        "colab": {
          "base_uri": "https://localhost:8080/"
        },
        "id": "BvYAz0XXsEKd",
        "outputId": "bc493ca5-1be4-4440-c925-869a22250ed5"
      },
      "source": [
        "print(parse_code(example03))"
      ],
      "execution_count": 211,
      "outputs": [
        {
          "output_type": "stream",
          "name": "stdout",
          "text": [
            "t*x + 2.0*t + x**2\n"
          ]
        }
      ]
    }
  ]
}