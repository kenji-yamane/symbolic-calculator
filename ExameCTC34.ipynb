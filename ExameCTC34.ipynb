{
  "nbformat": 4,
  "nbformat_minor": 0,
  "metadata": {
    "colab": {
      "name": "ExameCTC34.ipynb",
      "provenance": [],
      "collapsed_sections": []
    },
    "kernelspec": {
      "name": "python3",
      "display_name": "Python 3"
    },
    "language_info": {
      "name": "python"
    }
  },
  "cells": [
    {
      "cell_type": "code",
      "metadata": {
        "id": "TeciTaxF0-RU"
      },
      "source": [
        "import re\n",
        "import sympy"
      ],
      "execution_count": 397,
      "outputs": []
    },
    {
      "cell_type": "code",
      "metadata": {
        "id": "aIIB6F020_Os"
      },
      "source": [
        "# Descrição informal da gramática\n",
        "# O símbolo inicial é <program>\n",
        "# Não inclui whitespaces\n",
        "\n",
        "grammar01 = \"\"\"\n",
        "\n",
        "<program> = <variable> <constants>? <functions>? <expression> \n",
        "\n",
        "<variable> = variable <name>\n",
        "<constants> = constants <name> (, <name>)*\n",
        "<functions> = functions <name> (, <name>)*\n",
        "\n",
        "<expression> = <term> | <expression> [(+|-) <term>] \n",
        "<term> = <power> [* <term>]\n",
        "<power> = <base> [^ <power>]\n",
        "<base> = <factor> (')? \n",
        "<factor> =  <decimal> | <name> | (<expression>)\n",
        "\n",
        "<name> = <letter>(<alphanumeric_>)+\n",
        "<decimal> = <digit>+ [\\.<digit>+]\n",
        "\n",
        "\"\"\""
      ],
      "execution_count": 398,
      "outputs": []
    },
    {
      "cell_type": "code",
      "metadata": {
        "id": "89bMQLg54d0H"
      },
      "source": [
        "example01 = \"\"\"\n",
        "\n",
        "variable x\n",
        "constants A, B, C\n",
        "functions f\n",
        "(A + x + f)'\n",
        "\n",
        "\"\"\"\n",
        "\n",
        "example02 = \"\"\"\n",
        "\n",
        "variable t\n",
        "constants k\n",
        "functions x, y\n",
        "k*(x + y)*(x - y)\n",
        "\n",
        "\"\"\"\n",
        "\n",
        "example03 = \"\"\"\n",
        "\n",
        "variable t\n",
        "constants k\n",
        "functions x, y\n",
        "(x + t)*x + 2*t\n",
        "\n",
        "\"\"\"\n",
        "\n",
        "example04 = \"\"\"\n",
        "\n",
        "variable t2\n",
        "constants A\n",
        "functions x, y, z\n",
        "(x+Ay)*(x^2-A-z+t2)'\n",
        "\n",
        "\"\"\""
      ],
      "execution_count": 399,
      "outputs": []
    },
    {
      "cell_type": "code",
      "metadata": {
        "id": "Hknk35o5wcuV"
      },
      "source": [
        "class MathematicalObjects:\n",
        "  \"\"\"\n",
        "  Mapeia todas as funções e constantes e variáveis existentes a symbols do sympy.\n",
        "  \"\"\"\n",
        "  def __init__(self):\n",
        "    self.objects = {}\n",
        "    self.variable = None\n",
        "  \n",
        "  def add_constant(self, constant_name):\n",
        "    if self.objects.get(constant_name) != None:\n",
        "      raise Exception('Object %s already exists', constant_name)\n",
        "    self.objects[constant_name] = sympy.symbols(constant_name, constant=True)\n",
        "\n",
        "  def add_function(self, function_name):\n",
        "    if self.objects.get(function_name) != None:\n",
        "      raise Exception('Object %s already exists', function_name)\n",
        "    if self.variable is None:\n",
        "      raise Exception('Variable need to be set before functions')\n",
        "    self.objects[function_name] = sympy.Function(function_name)(self.variable)\n",
        "  \n",
        "  def set_variable(self, variable_name):\n",
        "    self.variable = sympy.symbols(variable_name, constant=False)\n",
        "    self.objects[variable_name] = self.variable\n",
        "  \n",
        "  def get(self, object_name):\n",
        "    x = self.objects.get(object_name)\n",
        "    if x is None:\n",
        "      raise Exception('Object %s does not exist' % object_name)\n",
        "    return x"
      ],
      "execution_count": 400,
      "outputs": []
    },
    {
      "cell_type": "code",
      "metadata": {
        "id": "irnxGCi83aaW"
      },
      "source": [
        "# name: uma letra opcionalmente seguida de outras letras, números ou underscores, \n",
        "# ex: x, x2, xlinha, x_linha\n",
        "\n",
        "name = r'[a-zA-Z][a-zA-Z0-9_]*'\n",
        "\n",
        "# name_list: sequência de um ou mais names separados por vírgula\n",
        "\n",
        "name_list = r'({name}(?:\\s*,\\s*{name})*)'.format(name=name)\n",
        "\n",
        "header_regex = r'''\\s*variable\\s({name})\n",
        "(?:\\s*constants\\s+{name_list})?\n",
        "(?:\\s*functions\\s+{name_list})?\n",
        "(.+)'''.format(name=name, name_list=name_list)\n",
        "\n",
        "def preprocess(code):\n",
        "  \"\"\"\n",
        "  Extrai os objetos matemáticos e as expressões do código inserido.\n",
        "  \"\"\"\n",
        "  m = re.match(header_regex, code,re.S)\n",
        "  variable, constants, functions, expression = m.groups()\n",
        "\n",
        "  raw_constants = constants.split(',')\n",
        "  raw_functions = functions.split(',')\n",
        "\n",
        "  objects = MathematicalObjects()\n",
        "  variable_name = variable.strip()\n",
        "  objects.set_variable(variable_name)\n",
        "\n",
        "  for v in raw_functions:\n",
        "    objects.add_function(v.strip()) \n",
        "  for c in raw_constants:\n",
        "    objects.add_constant(c.strip()) \n",
        "\n",
        "  expression = expression.strip()\n",
        "  return expression, objects\n",
        "\n"
      ],
      "execution_count": 401,
      "outputs": []
    },
    {
      "cell_type": "code",
      "metadata": {
        "id": "881OzQXxtfhZ"
      },
      "source": [
        "expression, objects = preprocess(example04)"
      ],
      "execution_count": 402,
      "outputs": []
    },
    {
      "cell_type": "code",
      "metadata": {
        "colab": {
          "base_uri": "https://localhost:8080/",
          "height": 35
        },
        "id": "iPw3QcnlpoYp",
        "outputId": "da8bfaeb-6600-4131-fbcb-b2d06bb1d038"
      },
      "source": [
        "expression"
      ],
      "execution_count": 403,
      "outputs": [
        {
          "output_type": "execute_result",
          "data": {
            "application/vnd.google.colaboratory.intrinsic+json": {
              "type": "string"
            },
            "text/plain": [
              "\"(x+Ay)*(x^2-A-z+t2)'\""
            ]
          },
          "metadata": {},
          "execution_count": 403
        }
      ]
    },
    {
      "cell_type": "code",
      "metadata": {
        "colab": {
          "base_uri": "https://localhost:8080/"
        },
        "id": "Juwb5uWRjEzc",
        "outputId": "06fb27ff-26c9-4bc1-8682-cf7b6c6a63cb"
      },
      "source": [
        "objects.objects"
      ],
      "execution_count": 404,
      "outputs": [
        {
          "output_type": "execute_result",
          "data": {
            "text/plain": [
              "{'A': A, 't2': t2, 'x': x(t2), 'y': y(t2), 'z': z(t2)}"
            ]
          },
          "metadata": {},
          "execution_count": 404
        }
      ]
    },
    {
      "cell_type": "code",
      "metadata": {
        "colab": {
          "base_uri": "https://localhost:8080/"
        },
        "id": "pkC6tZzd1reg",
        "outputId": "b9a7e4e0-a722-4f29-aab3-7c61f2a7d989"
      },
      "source": [
        "print(objects.variable)"
      ],
      "execution_count": 406,
      "outputs": [
        {
          "output_type": "stream",
          "name": "stdout",
          "text": [
            "t2\n"
          ]
        }
      ]
    },
    {
      "cell_type": "code",
      "metadata": {
        "id": "_crXuuWJuWmi"
      },
      "source": [
        "class Node:\n",
        "  \"\"\"\n",
        "  Classe abstrata que representa uma operação com número arbitrário de filhos.\n",
        "  \"\"\"\n",
        "  def __init__(self, name, children=None):\n",
        "      self.children=children\n",
        "      self.name=name\n",
        "\n",
        "  def print(self):\n",
        "      a = self.name\n",
        "      if self.children is not None:\n",
        "        a += '('\n",
        "        a += self.children[0].print()\n",
        "        for c in range(1, len(self.children)):\n",
        "          a += ', ' + self.children[c].print()\n",
        "        a += ')'\n",
        "      return a\n",
        "\n",
        "  def evaluate(self, objects):\n",
        "    pass\n",
        "\n",
        "class AddNode (Node):\n",
        "  def __init__(self, children=None):\n",
        "    super().__init__('+', children)\n",
        "\n",
        "  def evaluate(self, objects):\n",
        "    return self.children[0].evaluate(objects) + self.children[1].evaluate(objects)\n",
        "\n",
        "class SubNode (Node):\n",
        "  def __init__(self, children=None):\n",
        "    super().__init__('-', children)\n",
        "\n",
        "  def evaluate(self, objects):\n",
        "    return self.children[0].evaluate(objects) - self.children[1].evaluate(objects)\n",
        "\n",
        "class MultiNode (Node):\n",
        "  def __init__(self, children=None):\n",
        "    super().__init__('*', children)\n",
        "    \n",
        "  def evaluate(self, objects):\n",
        "    return self.children[0].evaluate(objects) * self.children[1].evaluate(objects)\n",
        "\n",
        "class PowerNode (Node):\n",
        "  def __init__(self, children=None):\n",
        "    super().__init__('^', children)\n",
        "    \n",
        "  def evaluate(self, objects):\n",
        "    return self.children[0].evaluate(objects) ** self.children[1].evaluate(objects)\n",
        "\n",
        "class DerivativeNode (Node):\n",
        "  def __init__(self, node):\n",
        "    super().__init__('\\'', [node])\n",
        "    \n",
        "  def evaluate(self, objects):\n",
        "    return sympy.diff(self.children[0].evaluate(objects), objects.variable)\n",
        "  \n",
        "class LiteralNode (Node):\n",
        "  def __init__(self, name, children=None):\n",
        "    super().__init__(name, children)\n",
        "    \n",
        "  def evaluate(self, objects):\n",
        "    return sympy.N(self.name)\n",
        "  \n",
        "class ObjectNode (Node):\n",
        "  def __init__(self, name, children=None):\n",
        "    super().__init__(name, children)\n",
        "    \n",
        "  def evaluate(self, objects):\n",
        "    return objects.get(self.name)"
      ],
      "execution_count": 407,
      "outputs": []
    },
    {
      "cell_type": "code",
      "metadata": {
        "id": "EqbgM5XxAjRQ"
      },
      "source": [
        "class Token(object):\n",
        "  \"\"\"\n",
        "  Token com tipo e valor\n",
        "  \"\"\"\n",
        "  def __init__(self, type, value):\n",
        "      self.type = type\n",
        "      self.value = value\n",
        "\n",
        "class Lexer:\n",
        "  \"\"\"\n",
        "  Análisador léxico.\n",
        "  \"\"\"\n",
        "  def __init__(self, code):\n",
        "    # os tokens podem ser:\n",
        "    # [0-9]+(\\.[0-9]+)?        Floats, ex: \"4\", \"5.3\", \"22.75\"\n",
        "    # [a-zA-Z]([_a-zA-Z0-9])*  Nomes de funções ou variáveis compostos por \n",
        "    #         um caractere seguido por 0 ou mais caracteres ou underscores\n",
        "    # \\(|\\)|\\+|\\-|\\*           Qualquer outro delimitador válido na linguagem\n",
        "    self.code = code\n",
        "    self.pos = 0\n",
        "    literal = '[0-9]+(\\.[0-9]+)?'\n",
        "    name = '[a-zA-Z]([_a-zA-Z0-9])*'\n",
        "    # regex nomeada que extrai tipo do literal e valor\n",
        "    token_regex = r'''(?P<LITERAL>{literal})|(?P<NAME>{name})|(?P<OPEN_PARENTHESIS>\\()|(?P<CLOSE_PARENTHESIS>\\))|(?P<PLUS>\\+)|(?P<MINUS>\\-)|(?P<TIMES>\\*)|(?P<POWER>\\^)|(?P<DERIVATIVE>\\')'''.format(literal=literal, name=name)\n",
        "    self.regex = re.compile(token_regex)\n",
        "    self.skip_whitespace = re.compile('\\S')\n",
        "  \n",
        "  def token(self):\n",
        "    \"\"\" \n",
        "    Retorna o próximo token e avança pos\n",
        "    \"\"\"\n",
        "    if self.pos >= len(self.code):\n",
        "      return None\n",
        "    \n",
        "    # Salta espaços vazios\n",
        "    m = self.skip_whitespace.search(self.code, self.pos)\n",
        "    if m:\n",
        "        self.pos = m.start()\n",
        "    else:\n",
        "      return None\n",
        "\n",
        "    # Faz o metch com a regex de tokens\n",
        "    m = self.regex.match(self.code, self.pos)\n",
        "    if m:\n",
        "      groupname = m.lastgroup\n",
        "      tok = Token(groupname, m.group(groupname))\n",
        "      self.pos = m.end()\n",
        "      return tok\n",
        "\n",
        "    raise Exception('Lexical error at position %s' % self.pos)\n",
        "\n",
        "  def tokens(self):\n",
        "    \"\"\" \n",
        "    Retorna iterator que percorre os tokens\n",
        "    \"\"\"\n",
        "    while 1:\n",
        "      tok = self.token()\n",
        "      if tok is None: yield Token('EOF', 'EOF')\n",
        "      yield tok\n"
      ],
      "execution_count": 408,
      "outputs": []
    },
    {
      "cell_type": "code",
      "metadata": {
        "id": "C2wwCtMrxsMB"
      },
      "source": [
        "class Parser:\n",
        "    \"\"\"\n",
        "    Realiza o parsing.\n",
        "    \"\"\"\n",
        "    def __init__(self, s):\n",
        "      self.lex = Lexer(s).tokens()\n",
        "      self.current = self.next()\n",
        "\n",
        "    def next(self):\n",
        "      return next(self.lex)\n",
        "\n",
        "    def parse(self):\n",
        "      return self.Root()\n",
        "\n",
        "    def Root(self):\n",
        "      l = self.Term()\n",
        "      return self.Expression(l)\n",
        "\n",
        "    def Expression(self, left_side):\n",
        "        if self.current.type == 'PLUS':\n",
        "          self.current = self.next()\n",
        "          r = self.Term()\n",
        "          if r is None:\n",
        "            return None\n",
        "          return self.Expression(AddNode([left_side, r]))\n",
        "        elif self.current.type == 'MINUS':\n",
        "          self.current = self.next()\n",
        "          r = self.Term()\n",
        "          if r is None:\n",
        "            return None\n",
        "          return self.Expression(SubNode([left_side, r]))\n",
        "        \n",
        "        return left_side\n",
        "\n",
        "    def Term(self):\n",
        "        l = self.Power()\n",
        "        if self.current.type == 'TIMES':\n",
        "            self.current = self.next()\n",
        "            r = self.Term()\n",
        "            if r == None:\n",
        "                return None\n",
        "            return MultiNode([l, r])\n",
        "        return l\n",
        "    \n",
        "    def Power(self):\n",
        "      l = self.Base()\n",
        "      if self.current.type == 'POWER':\n",
        "          self.current = self.next()\n",
        "          r = self.Power()\n",
        "          if r == None:\n",
        "              return None\n",
        "          return PowerNode([l, r])\n",
        "      return l\n",
        "\n",
        "    def Base(self):\n",
        "        child = self.Factor()\n",
        "        if self.current.type == 'DERIVATIVE':\n",
        "            self.current = self.next()\n",
        "            return DerivativeNode(child)\n",
        "        return child\n",
        "\n",
        "    def Factor(self):\n",
        "        if self.current.type == 'OPEN_PARENTHESIS':\n",
        "            self.current = self.next()\n",
        "            r = self.Root()\n",
        "            if self.current.type == 'CLOSE_PARENTHESIS':\n",
        "                self.current = self.next()\n",
        "                return r\n",
        "            return None\n",
        "\n",
        "        if self.current.type == 'LITERAL':\n",
        "          node = LiteralNode(self.current.value)\n",
        "          self.current = self.next()\n",
        "          return node\n",
        "        elif self.current.type == 'NAME':\n",
        "          node = VariableNode(self.current.value)\n",
        "          self.current = self.next()\n",
        "          return node\n",
        "\n",
        "        raise Exception('Syntax error')\n",
        "        "
      ],
      "execution_count": 409,
      "outputs": []
    },
    {
      "cell_type": "code",
      "metadata": {
        "id": "r5h-DTGJzPRy"
      },
      "source": [
        "# Operações básicas\n",
        "tree = Parser('1*23').parse()\n",
        "assert tree.print() == \"*(1, 23)\"\n",
        "assert '%.2f' % tree.evaluate({}) == '23.00'\n",
        "\n",
        "tree = Parser('25+   4.74').parse()\n",
        "assert tree.print() == \"+(25, 4.74)\"\n",
        "assert '%.2f' % tree.evaluate({}) == '29.74'\n",
        "\n",
        "tree = Parser('  32 - 15 ').parse()\n",
        "assert tree.print() == \"-(32, 15)\"\n",
        "assert '%.2f' % tree.evaluate({}) == '17.00'\n",
        "\n",
        "\n",
        "tree = Parser('  2^5 ').parse()\n",
        "assert tree.print() == \"^(2, 5)\"\n",
        "assert '%.2f' % tree.evaluate({}) == '32.00'"
      ],
      "execution_count": 410,
      "outputs": []
    },
    {
      "cell_type": "code",
      "metadata": {
        "id": "AgF91jjJziLP"
      },
      "source": [
        "# Ordem das operações\n",
        "tree = Parser('1*23+5').parse()\n",
        "assert tree.print() == \"+(*(1, 23), 5)\"\n",
        "assert '%.2f' % tree.evaluate({}) == '28.00'\n",
        "\n",
        "tree = Parser('1 * (23+5)').parse()\n",
        "assert tree.print() == \"*(1, +(23, 5))\"\n",
        "assert '%.2f' % tree.evaluate({}) == '28.00'"
      ],
      "execution_count": 411,
      "outputs": []
    },
    {
      "cell_type": "code",
      "metadata": {
        "id": "VSpBRj8H9pFb"
      },
      "source": [
        "# Exemplos complexos - somente parsing, sem avaliação\n",
        "tree = Parser('k*(x + y)*(x - y)').parse()\n",
        "assert tree.print() == \"*(k, *(+(x, y), -(x, y)))\"\n",
        "\n",
        "tree = Parser('(x + t)*x + 2*t').parse()\n",
        "assert tree.print() == \"+(*(+(x, t), x), *(2, t))\"\n",
        "\n",
        "tree = Parser('(x+Ay)*(x^2-A-z+t2)').parse()\n",
        "assert tree.print() == \"*(+(x, Ay), +(-(-(^(x, 2), A), z), t2))\""
      ],
      "execution_count": 412,
      "outputs": []
    },
    {
      "cell_type": "code",
      "metadata": {
        "id": "U2wxoZMu2Q3P"
      },
      "source": [
        "# Exemplos com derivada\n",
        "tree = Parser('k*(x + y)*(x - y)\\'').parse()\n",
        "assert tree.print() == \"*(k, *(+(x, y), '(-(x, y))))\""
      ],
      "execution_count": 413,
      "outputs": []
    },
    {
      "cell_type": "code",
      "metadata": {
        "id": "YxjnS5QYmamv"
      },
      "source": [
        "# Método que encapsula extração de objetos + parsing + avaliação de um código na \n",
        "# linguagem definida\n",
        "def parse_code(code):\n",
        "  expression, objects = preprocess(code)\n",
        "  expression_tree = Parser(expression).parse()\n",
        "  result = expression_tree.evaluate(objects)\n",
        "  result = result.expand()\n",
        "  return result"
      ],
      "execution_count": 414,
      "outputs": []
    },
    {
      "cell_type": "code",
      "metadata": {
        "id": "GmrnICeLD47m"
      },
      "source": [
        "from sympy import Symbol\n",
        "from sympy.printing.latex import LatexPrinter\n",
        "from sympy.core.function import UndefinedFunction\n",
        "\n",
        "# Implementa um override do LatexPrinter mais claro para funções de somente\n",
        "# uma variável (não funciona para mais variáveis)\n",
        "class SimpleLatexPrinter(LatexPrinter):\n",
        "    def _print_Derivative(self, expr):\n",
        "        function, *vars = expr.args\n",
        "        variable = vars[0]\n",
        "        derivative_order = variable[1]\n",
        "        return \"{}{}\".format(\n",
        "            self._print(Symbol(function.func.__name__)),\n",
        "                        ('\\''*derivative_order) )\n",
        "    \n",
        "    def _print_Function(self, expr, exp=None):\n",
        "        function, *vars = expr.args\n",
        "        name = expr.func.__name__\n",
        "        if exp is not None and exp != '1.0':\n",
        "            return r\"%s^{%s}\" % (name, exp)\n",
        "        return \"%s\" % (expr.func.__name__)\n",
        "\n",
        "sympy.init_printing(latex_printer=SimpleLatexPrinter().doprint)"
      ],
      "execution_count": 415,
      "outputs": []
    },
    {
      "cell_type": "code",
      "metadata": {
        "id": "G4ExASvFDs-w"
      },
      "source": [
        "from IPython.display import display, Math\n",
        "\n",
        "# Encapsula a escrita do resultado\n",
        "def print_result(result):\n",
        "  simpleLatex = SimpleLatexPrinter().doprint(result)\n",
        "  display(Math(simpleLatex))"
      ],
      "execution_count": 416,
      "outputs": []
    },
    {
      "cell_type": "code",
      "metadata": {
        "colab": {
          "base_uri": "https://localhost:8080/",
          "height": 38
        },
        "id": "6ze4lI2BqNWP",
        "outputId": "93f261c6-f9dd-41aa-c8e4-5ff6d66654b5"
      },
      "source": [
        "example01 = \"\"\"\n",
        "\n",
        "variable x\n",
        "constants A, B, C\n",
        "functions f\n",
        "(A + x + f)'\n",
        "\n",
        "\"\"\"\n",
        "result = parse_code(example01)\n",
        "print_result(result)"
      ],
      "execution_count": 417,
      "outputs": [
        {
          "output_type": "display_data",
          "data": {
            "text/latex": "$$f' + 1$$",
            "text/plain": [
              "<IPython.core.display.Math object>"
            ]
          },
          "metadata": {}
        }
      ]
    },
    {
      "cell_type": "code",
      "metadata": {
        "colab": {
          "base_uri": "https://localhost:8080/",
          "height": 38
        },
        "id": "X8XxfwmYruma",
        "outputId": "f2e8002c-ce97-4abd-bb52-46f72e995140"
      },
      "source": [
        "example02 = \"\"\"\n",
        "\n",
        "variable t\n",
        "constants k\n",
        "functions x, y\n",
        "k*(x + y)*(x - y)\n",
        "\n",
        "\"\"\"\n",
        "result = parse_code(example02)\n",
        "print_result(result)"
      ],
      "execution_count": 418,
      "outputs": [
        {
          "output_type": "display_data",
          "data": {
            "text/latex": "$$k x^{2} - k y^{2}$$",
            "text/plain": [
              "<IPython.core.display.Math object>"
            ]
          },
          "metadata": {}
        }
      ]
    },
    {
      "cell_type": "code",
      "metadata": {
        "colab": {
          "base_uri": "https://localhost:8080/",
          "height": 38
        },
        "id": "BvYAz0XXsEKd",
        "outputId": "96d42538-43bd-4212-f162-927da9556339"
      },
      "source": [
        "example03 = \"\"\"\n",
        "\n",
        "variable t\n",
        "constants k\n",
        "functions x, y\n",
        "(x + t)*x + 2*t\n",
        "\n",
        "\"\"\"\n",
        "result = parse_code(example03)\n",
        "print_result(result)"
      ],
      "execution_count": 419,
      "outputs": [
        {
          "output_type": "display_data",
          "data": {
            "text/latex": "$$t x + 2.0 t + x^{2}$$",
            "text/plain": [
              "<IPython.core.display.Math object>"
            ]
          },
          "metadata": {}
        }
      ]
    },
    {
      "cell_type": "code",
      "metadata": {
        "colab": {
          "base_uri": "https://localhost:8080/",
          "height": 38
        },
        "id": "A7dWNg-kwFOB",
        "outputId": "c07eb1e4-3da5-43c9-9929-ae52dbf59031"
      },
      "source": [
        "example04 = \"\"\"\n",
        "\n",
        "variable t2\n",
        "constants A\n",
        "functions x, y, z\n",
        "(x+A*y)*(x^2-A-z+t2)'\n",
        "\n",
        "\"\"\"\n",
        "result = parse_code(example04)\n",
        "print_result(result)"
      ],
      "execution_count": 420,
      "outputs": [
        {
          "output_type": "display_data",
          "data": {
            "text/latex": "$$2.0 A x y x' - A y z' + A y - x z' + x + 2.0 x^{2.0} x'$$",
            "text/plain": [
              "<IPython.core.display.Math object>"
            ]
          },
          "metadata": {}
        }
      ]
    }
  ]
}