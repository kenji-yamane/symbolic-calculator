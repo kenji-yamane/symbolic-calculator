{
  "nbformat": 4,
  "nbformat_minor": 0,
  "metadata": {
    "colab": {
      "name": "ExameCTC34.ipynb",
      "provenance": [],
      "collapsed_sections": []
    },
    "kernelspec": {
      "name": "python3",
      "display_name": "Python 3"
    },
    "language_info": {
      "name": "python"
    }
  },
  "cells": [
    {
      "cell_type": "code",
      "metadata": {
        "id": "TeciTaxF0-RU"
      },
      "source": [
        "import re\n",
        "from sympy import symbols, N"
      ],
      "execution_count": 138,
      "outputs": []
    },
    {
      "cell_type": "code",
      "metadata": {
        "id": "aIIB6F020_Os"
      },
      "source": [
        "# Descrição informal da gramática\n",
        "# O símbolo inicial é <program>\n",
        "# Não inclui whitespaces\n",
        "\n",
        "grammar01 = \"\"\"\n",
        "\n",
        "<program> = <variable> <constants>? <functions>? <expression> \n",
        "\n",
        "<name> = <letter>(<alphanumeric_>)+\n",
        "<variable> = variable <name>\n",
        "<constants> = constants <name> (, <name>)*\n",
        "<functions> = functions <name> (, <name>)*\n",
        "\n",
        "<decimal> = <alphanumeric>+ [\\.<alphanumeric>+]\n",
        "<expression> = <term> [(+|-) <expression>] \n",
        "<term> = <power> [* <term>]\n",
        "<power> = <factor> [^ <power>]\n",
        "<factor> =  <decimal> | <name> | (<expression>)\n",
        "\n",
        "\"\"\""
      ],
      "execution_count": 139,
      "outputs": []
    },
    {
      "cell_type": "code",
      "metadata": {
        "id": "89bMQLg54d0H"
      },
      "source": [
        "example01 = \"\"\"\n",
        "\n",
        "variable x\n",
        "constants A, B, C\n",
        "functions f\n",
        "(A + x + f)\n",
        "\n",
        "\"\"\"\n",
        "\n",
        "example02 = \"\"\"\n",
        "\n",
        "variable t\n",
        "constants k\n",
        "functions x, y\n",
        "k*(x + y)*(x - y)\n",
        "\n",
        "\"\"\"\n",
        "\n",
        "example03 = \"\"\"\n",
        "\n",
        "variable t\n",
        "constants k\n",
        "functions x, y\n",
        "(x + t)*x + 2*t\n",
        "\n",
        "\"\"\"\n",
        "\n",
        "example04 = \"\"\"\n",
        "\n",
        "variable t2\n",
        "constants A\n",
        "functions x, y, z\n",
        "(x+Ay)*(x^2-A-z+t2)'\n",
        "\n",
        "\"\"\""
      ],
      "execution_count": 140,
      "outputs": []
    },
    {
      "cell_type": "code",
      "metadata": {
        "id": "Hknk35o5wcuV"
      },
      "source": [
        "class Variables:\n",
        "  \"\"\"\n",
        "  Representa todas as funções e constantes existentes.\n",
        "  \"\"\"\n",
        "  def __init__(self):\n",
        "    self.variables = {}\n",
        "  \n",
        "  def add(self, variable_name, constant=False):\n",
        "    if self.variables.get(variable_name) != None:\n",
        "      raise Exception('Variable %s already exists', variable_name)\n",
        "    self.variables[variable_name] = symbols(variable_name, constant=False)\n",
        "  \n",
        "  def get(self, variable_name):\n",
        "    x = self.variables.get(variable_name)\n",
        "    if x is None:\n",
        "      raise Exception('Variable %s does not exist' % variable_name)\n",
        "    return x"
      ],
      "execution_count": 141,
      "outputs": []
    },
    {
      "cell_type": "code",
      "metadata": {
        "id": "irnxGCi83aaW"
      },
      "source": [
        "# Obs: name = [a-zA-Z][a-zA-Z0-9]*\n",
        "name = r'[a-zA-Z][a-zA-Z0-9]*'\n",
        "name_list = r'({name}(?:\\s*,\\s*{name})*)'.format(name=name)\n",
        "\n",
        "header_regex = r'''\\s*variable\\s({name})\n",
        "(?:\\s*constants\\s+{name_list})?\n",
        "(?:\\s*functions\\s+{name_list})?\n",
        "(.+)'''.format(name=name, name_list=name_list)\n",
        "\n",
        "def preprocess(code):\n",
        "  \"\"\"\n",
        "  Extrai a expressão e as variáveis do código inserido.\n",
        "  \"\"\"\n",
        "  m = re.match(header_regex, code,re.S)\n",
        "  variable, constants, functions, expression = m.groups()\n",
        "\n",
        "  raw_constants = constants.split(',')\n",
        "  raw_functions = functions.split(',')\n",
        "\n",
        "  variables = Variables()\n",
        "  variable_name = variable.strip()\n",
        "  variables.add(variable_name, constant=False) \n",
        "  for v in raw_functions:\n",
        "    variables.add(v.strip(), constant=False) \n",
        "  for c in raw_constants:\n",
        "    variables.add(c.strip(), constant=True) \n",
        "\n",
        "  expression = expression.strip()\n",
        "  return expression, variables\n",
        "\n"
      ],
      "execution_count": 142,
      "outputs": []
    },
    {
      "cell_type": "code",
      "metadata": {
        "id": "881OzQXxtfhZ"
      },
      "source": [
        "expression, variables = preprocess(example04)"
      ],
      "execution_count": 143,
      "outputs": []
    },
    {
      "cell_type": "code",
      "metadata": {
        "colab": {
          "base_uri": "https://localhost:8080/",
          "height": 35
        },
        "id": "iPw3QcnlpoYp",
        "outputId": "3862d1cb-7faa-4a00-97d1-0549b3afa332"
      },
      "source": [
        "expression"
      ],
      "execution_count": 144,
      "outputs": [
        {
          "output_type": "execute_result",
          "data": {
            "application/vnd.google.colaboratory.intrinsic+json": {
              "type": "string"
            },
            "text/plain": [
              "\"(x+Ay)*(x^2-A-z+t2)'\""
            ]
          },
          "metadata": {},
          "execution_count": 144
        }
      ]
    },
    {
      "cell_type": "code",
      "metadata": {
        "colab": {
          "base_uri": "https://localhost:8080/"
        },
        "id": "Juwb5uWRjEzc",
        "outputId": "23c7fc08-6d9f-4f25-fbee-544ee046663f"
      },
      "source": [
        "variables.variables"
      ],
      "execution_count": 145,
      "outputs": [
        {
          "output_type": "execute_result",
          "data": {
            "text/plain": [
              "{'A': A, 't2': t2, 'x': x, 'y': y, 'z': z}"
            ]
          },
          "metadata": {},
          "execution_count": 145
        }
      ]
    },
    {
      "cell_type": "code",
      "metadata": {
        "id": "_crXuuWJuWmi"
      },
      "source": [
        "class Node:\n",
        "    \"\"\"\n",
        "    Classe abstrata que representa uma operação com número arbitrário de filhos.\n",
        "    \"\"\"\n",
        "    def __init__(self, name, children=None):\n",
        "        self.children=children\n",
        "        self.name=name\n",
        "\n",
        "    def print(self):\n",
        "        a = self.name\n",
        "        if self.children is not None:\n",
        "          a += '('\n",
        "          a += self.children[0].print()\n",
        "          for c in range(1, len(self.children)):\n",
        "            a += ', ' + self.children[c].print()\n",
        "          a += ')'\n",
        "        return a\n",
        "\n",
        "    def evaluate(self, variables):\n",
        "      pass\n",
        "\n",
        "class AddNode (Node):\n",
        "  def __init__(self, children=None):\n",
        "    super().__init__('+', children)\n",
        "\n",
        "  def evaluate(self, variables):\n",
        "    return self.children[0].evaluate(variables) + self.children[1].evaluate(variables)\n",
        "\n",
        "class SubNode (Node):\n",
        "  def __init__(self, children=None):\n",
        "    super().__init__('-', children)\n",
        "\n",
        "  def evaluate(self, variables):\n",
        "    return self.children[0].evaluate(variables) - self.children[1].evaluate(variables)\n",
        "\n",
        "class MultiNode (Node):\n",
        "  def __init__(self, children=None):\n",
        "    super().__init__('*', children)\n",
        "    \n",
        "  def evaluate(self, variables):\n",
        "    return self.children[0].evaluate(variables) * self.children[1].evaluate(variables)\n",
        "\n",
        "class PowerNode (Node):\n",
        "  def __init__(self, children=None):\n",
        "    super().__init__('^', children)\n",
        "    \n",
        "  def evaluate(self, variables):\n",
        "    return self.children[0].evaluate(variables) ** self.children[1].evaluate(variables)\n",
        "  \n",
        "class LiteralNode (Node):\n",
        "  def __init__(self, name, children=None):\n",
        "    super().__init__(name, children)\n",
        "    \n",
        "  def evaluate(self, variables):\n",
        "    return N(self.name)\n",
        "  \n",
        "class VariableNode (Node):\n",
        "  def __init__(self, name, children=None):\n",
        "    super().__init__(name, children)\n",
        "    \n",
        "  def evaluate(self, variables):\n",
        "    return variables.get(self.name)"
      ],
      "execution_count": 146,
      "outputs": []
    },
    {
      "cell_type": "code",
      "metadata": {
        "id": "EqbgM5XxAjRQ"
      },
      "source": [
        "class Token(object):\n",
        "    \"\"\"\n",
        "    Token com tipo e valor\n",
        "    \"\"\"\n",
        "    def __init__(self, type, value):\n",
        "        self.type = type\n",
        "        self.value = value\n",
        "\n",
        "class Lexer:\n",
        "  \"\"\"\n",
        "  Análisador léxico.\n",
        "  \"\"\"\n",
        "  def __init__(self, code):\n",
        "    # os tokens podem ser:\n",
        "    # [0-9]+(\\.[0-9]+)?        Floats, ex: \"4\", \"5.3\", \"22.75\"\n",
        "    # [a-zA-Z]([_a-zA-Z0-9])*  Nomes de funções ou variáveis compostos por \n",
        "    #         um caractere seguido por 0 ou mais caracteres ou underscores\n",
        "    # \\(|\\)|\\+|\\-|\\*           Qualquer outro delimitador válido na linguagem\n",
        "    self.code = code\n",
        "    self.pos = 0\n",
        "    literal = '[0-9]+(\\.[0-9]+)?'\n",
        "    name = '[a-zA-Z]([_a-zA-Z0-9])*'\n",
        "    regex = r'''(?P<LITERAL>{literal})|(?P<NAME>{name})|(?P<OPEN_PARENTHESIS>\\()|(?P<CLOSE_PARENTHESIS>\\))|(?P<PLUS>\\+)|(?P<MINUS>\\-)|(?P<TIMES>\\*)|(?P<POWER>\\^)'''.format(literal=literal, name=name)\n",
        "    self.regex = re.compile(regex)\n",
        "    self.re_ws_skip = re.compile('\\S')\n",
        "  \n",
        "  def token(self):\n",
        "    if self.pos >= len(self.code):\n",
        "      return None\n",
        "        \n",
        "    m = self.re_ws_skip.search(self.code, self.pos)\n",
        "    if m:\n",
        "        self.pos = m.start()\n",
        "    else:\n",
        "      return None\n",
        "\n",
        "    m = self.regex.match(self.code, self.pos)\n",
        "    if m:\n",
        "      groupname = m.lastgroup\n",
        "      tok = Token(groupname, m.group(groupname))\n",
        "      self.pos = m.end()\n",
        "      return tok\n",
        "\n",
        "    raise Exception('Lexical error at position %s' % self.pos)\n",
        "\n",
        "  def tokens(self):\n",
        "    \"\"\" \n",
        "    Retorna iterator que percorre os tokens\n",
        "    \"\"\"\n",
        "    while 1:\n",
        "      tok = self.token()\n",
        "      if tok is None: yield Token('EOF', 'EOF')\n",
        "      yield tok\n"
      ],
      "execution_count": 147,
      "outputs": []
    },
    {
      "cell_type": "code",
      "metadata": {
        "id": "C2wwCtMrxsMB"
      },
      "source": [
        "class Parser:\n",
        "    \"\"\"\n",
        "    Realiza o parsing.\n",
        "    \"\"\"\n",
        "    def __init__(self, s):\n",
        "      self.lex = Lexer(s).tokens()\n",
        "      self.current = self.next()\n",
        "\n",
        "    def next(self):\n",
        "      return next(self.lex)\n",
        "\n",
        "    def parse(self):\n",
        "      return self.Expression()\n",
        "\n",
        "    def Expression(self):\n",
        "        l = self.Term()\n",
        "\n",
        "        if self.current.type == 'PLUS':\n",
        "          self.current = self.next()\n",
        "          r = self.Expression()\n",
        "          if r != None:\n",
        "              return AddNode([l, r])\n",
        "          return None\n",
        "\n",
        "        if self.current.type == 'MINUS':\n",
        "          self.current = self.next()\n",
        "          r = self.Expression()\n",
        "          if r != None:\n",
        "              return SubNode([l, r])\n",
        "          return None\n",
        "\n",
        "        return l\n",
        "\n",
        "    def Term(self):\n",
        "        l = self.Power()\n",
        "        if self.current.type == 'TIMES':\n",
        "            self.current = self.next()\n",
        "            r = self.Term()\n",
        "            if r == None:\n",
        "                return None\n",
        "            return MultiNode([l, r])\n",
        "        return l\n",
        "    \n",
        "    def Power(self):\n",
        "      l = self.Factor()\n",
        "      if self.current.type == 'POWER':\n",
        "          self.current = self.next()\n",
        "          r = self.Power()\n",
        "          if r == None:\n",
        "              return None\n",
        "          return PowerNode([l, r])\n",
        "      return l\n",
        "\n",
        "\n",
        "    def Factor(self):\n",
        "        if self.current.type == 'OPEN_PARENTHESIS':\n",
        "            self.current = self.next()\n",
        "            r = self.Expression()\n",
        "            if self.current.type == 'CLOSE_PARENTHESIS':\n",
        "                self.current = self.next()\n",
        "                return r\n",
        "            return None\n",
        "\n",
        "        if self.current.type == 'LITERAL':\n",
        "          node = LiteralNode(self.current.value)\n",
        "          self.current = self.next()\n",
        "          return node\n",
        "        elif self.current.type == 'NAME':\n",
        "          node = VariableNode(self.current.value)\n",
        "          self.current = self.next()\n",
        "          return node\n",
        "\n",
        "        raise Exception('Syntax error')\n",
        "        "
      ],
      "execution_count": 148,
      "outputs": []
    },
    {
      "cell_type": "code",
      "metadata": {
        "id": "r5h-DTGJzPRy"
      },
      "source": [
        "# Operações básicas\n",
        "tree = Parser('1*23').parse()\n",
        "assert tree.print() == \"*(1, 23)\"\n",
        "assert '%.2f' % tree.evaluate({}) == '23.00'\n",
        "\n",
        "tree = Parser('25+   4.74').parse()\n",
        "assert tree.print() == \"+(25, 4.74)\"\n",
        "assert '%.2f' % tree.evaluate({}) == '29.74'\n",
        "\n",
        "tree = Parser('  32 - 15 ').parse()\n",
        "assert tree.print() == \"-(32, 15)\"\n",
        "assert '%.2f' % tree.evaluate({}) == '17.00'\n",
        "\n",
        "\n",
        "tree = Parser('  2^5 ').parse()\n",
        "assert tree.print() == \"^(2, 5)\"\n",
        "assert '%.2f' % tree.evaluate({}) == '32.00'"
      ],
      "execution_count": 149,
      "outputs": []
    },
    {
      "cell_type": "code",
      "metadata": {
        "id": "AgF91jjJziLP"
      },
      "source": [
        "# Ordem das operações\n",
        "tree = Parser('1*23+5').parse()\n",
        "assert tree.print() == \"+(*(1, 23), 5)\"\n",
        "assert '%.2f' % tree.evaluate({}) == '28.00'\n",
        "\n",
        "tree = Parser('1 * (23+5)').parse()\n",
        "assert tree.print() == \"*(1, +(23, 5))\"\n",
        "assert '%.2f' % tree.evaluate({}) == '28.00'"
      ],
      "execution_count": 150,
      "outputs": []
    },
    {
      "cell_type": "code",
      "metadata": {
        "id": "VSpBRj8H9pFb"
      },
      "source": [
        "# Exemplos complexos - somente parsing, sem avaliação\n",
        "tree = Parser('k*(x + y)*(x - y)').parse()\n",
        "assert tree.print() == \"*(k, *(+(x, y), -(x, y)))\"\n",
        "\n",
        "tree = Parser('(x + t)*x + 2*t').parse()\n",
        "assert tree.print() == \"+(*(+(x, t), x), *(2, t))\"\n",
        "\n",
        "tree = Parser('(x+Ay)*(x^2-A-z+t2)').parse()\n",
        "assert tree.print() == \"*(+(x, Ay), -(^(x, 2), -(A, +(z, t2))))\""
      ],
      "execution_count": 151,
      "outputs": []
    },
    {
      "cell_type": "code",
      "metadata": {
        "id": "YxjnS5QYmamv"
      },
      "source": [
        "# Método que encapsula extração de variáveis + parsing + avaliação de um código na \n",
        "# linguagem definida\n",
        "def parse_code(code):\n",
        "  expression, variables = preprocess(code)\n",
        "  result = Parser(expression).parse().evaluate(variables)\n",
        "  return result.expand()"
      ],
      "execution_count": 152,
      "outputs": []
    },
    {
      "cell_type": "code",
      "metadata": {
        "colab": {
          "base_uri": "https://localhost:8080/"
        },
        "id": "6ze4lI2BqNWP",
        "outputId": "8b10e739-0ad5-4617-d0d7-8a04ae3ad069"
      },
      "source": [
        "print(parse_code(example01))"
      ],
      "execution_count": 155,
      "outputs": [
        {
          "output_type": "stream",
          "name": "stdout",
          "text": [
            "A + f + x\n"
          ]
        }
      ]
    },
    {
      "cell_type": "code",
      "metadata": {
        "colab": {
          "base_uri": "https://localhost:8080/"
        },
        "id": "X8XxfwmYruma",
        "outputId": "61e0f750-3fa9-4aa9-a7f7-67651e6dc9b2"
      },
      "source": [
        "print(parse_code(example02))"
      ],
      "execution_count": 156,
      "outputs": [
        {
          "output_type": "stream",
          "name": "stdout",
          "text": [
            "k*x**2 - k*y**2\n"
          ]
        }
      ]
    },
    {
      "cell_type": "code",
      "metadata": {
        "colab": {
          "base_uri": "https://localhost:8080/"
        },
        "id": "BvYAz0XXsEKd",
        "outputId": "6ffa6075-01cc-4f30-d358-764a6a63c840"
      },
      "source": [
        "print(parse_code(example03))"
      ],
      "execution_count": 157,
      "outputs": [
        {
          "output_type": "stream",
          "name": "stdout",
          "text": [
            "t*x + 2.0*t + x**2\n"
          ]
        }
      ]
    },
    {
      "cell_type": "code",
      "metadata": {
        "colab": {
          "base_uri": "https://localhost:8080/"
        },
        "id": "koBc9t05IV20",
        "outputId": "09f12ab9-4700-45eb-ec47-822ad0453e8b"
      },
      "source": [
        "print(parse_code('''\n",
        "variable t\n",
        "constants A\n",
        "functions x\n",
        "2\n",
        "'''\n",
        "))"
      ],
      "execution_count": 154,
      "outputs": [
        {
          "output_type": "stream",
          "name": "stdout",
          "text": [
            "2.00000000000000\n"
          ]
        }
      ]
    }
  ]
}